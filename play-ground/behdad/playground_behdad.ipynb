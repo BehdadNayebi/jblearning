{
 "cells": [
  {
   "cell_type": "markdown",
   "metadata": {},
   "source": [
    "Map -> higher  order function"
   ]
  },
  {
   "cell_type": "code",
   "execution_count": 8,
   "metadata": {},
   "outputs": [
    {
     "data": {
      "text/plain": [
       "<map at 0x1201c9750>"
      ]
     },
     "execution_count": 8,
     "metadata": {},
     "output_type": "execute_result"
    }
   ],
   "source": [
    "#empty map is a map type and a kinda iterator\n",
    "lst = [1,2,3,4]\n",
    "map(lambda x : x+2, lst)"
   ]
  },
  {
   "cell_type": "code",
   "execution_count": 9,
   "metadata": {},
   "outputs": [
    {
     "data": {
      "text/plain": [
       "[3, 4, 5, 6]"
      ]
     },
     "execution_count": 9,
     "metadata": {},
     "output_type": "execute_result"
    }
   ],
   "source": [
    "list(map(lambda x : x+2, lst))"
   ]
  },
  {
   "cell_type": "code",
   "execution_count": 14,
   "metadata": {},
   "outputs": [
    {
     "data": {
      "text/plain": [
       "[3, 4, 5, 6]"
      ]
     },
     "execution_count": 14,
     "metadata": {},
     "output_type": "execute_result"
    }
   ],
   "source": [
    "def plustwo(x):\n",
    "    return x + 2\n",
    "\n",
    "list(map(plustwo, lst))"
   ]
  },
  {
   "cell_type": "markdown",
   "metadata": {},
   "source": [
    "Filter -> Higher order functions"
   ]
  },
  {
   "cell_type": "code",
   "execution_count": 17,
   "metadata": {},
   "outputs": [
    {
     "data": {
      "text/plain": [
       "[1, 2]"
      ]
     },
     "execution_count": 17,
     "metadata": {},
     "output_type": "execute_result"
    }
   ],
   "source": [
    "list(filter(lambda x : x<3, lst))"
   ]
  },
  {
   "cell_type": "code",
   "execution_count": 21,
   "metadata": {},
   "outputs": [
    {
     "name": "stdout",
     "output_type": "stream",
     "text": [
      "['apple', 'cherry', 'fig', 'orange']\n"
     ]
    }
   ],
   "source": [
    "fruits = ['fig', 'orange', 'cherry', 'apple']\n",
    "fruits.sort() #sort is a method and it does inplace sorting\n",
    "print(fruits) \n",
    "#there is also a reverse = True to add to the method"
   ]
  },
  {
   "cell_type": "code",
   "execution_count": 22,
   "metadata": {},
   "outputs": [
    {
     "data": {
      "text/plain": [
       "['apple', 'cherry', 'fig', 'orange']"
      ]
     },
     "execution_count": 22,
     "metadata": {},
     "output_type": "execute_result"
    }
   ],
   "source": [
    "sorted(fruits) #this one is a function and you can assign it to a variable"
   ]
  },
  {
   "cell_type": "code",
   "execution_count": 24,
   "metadata": {},
   "outputs": [
    {
     "data": {
      "text/plain": [
       "['cherry', 'fig', 'apple', 'orange']"
      ]
     },
     "execution_count": 24,
     "metadata": {},
     "output_type": "execute_result"
    }
   ],
   "source": [
    "#we can also add key to sorts in our method\n",
    "sorted(fruits, key= lambda x : x[1]) #here it is sorted based on the second index"
   ]
  },
  {
   "cell_type": "code",
   "execution_count": 25,
   "metadata": {},
   "outputs": [
    {
     "data": {
      "text/plain": [
       "[(5, 1), (1, 2), (3, 8), (2, 9)]"
      ]
     },
     "execution_count": 25,
     "metadata": {},
     "output_type": "execute_result"
    }
   ],
   "source": [
    "#it could also be used in tupels:\n",
    "data = [(3, 8), (1, 2), (5, 1), (2, 9)]\n",
    "sorted(data, key=lambda x: x[1])"
   ]
  },
  {
   "cell_type": "code",
   "execution_count": 30,
   "metadata": {},
   "outputs": [
    {
     "name": "stdout",
     "output_type": "stream",
     "text": [
      "1\n",
      "2\n",
      "3\n"
     ]
    }
   ],
   "source": [
    "#Recursive functions\n",
    "#iteration method\n",
    "def iter(low, high):\n",
    "    while low <= high:\n",
    "        print(low)\n",
    "        low = low+1\n",
    "\n",
    "iter(1, 3)"
   ]
  },
  {
   "cell_type": "code",
   "execution_count": 28,
   "metadata": {},
   "outputs": [
    {
     "name": "stdout",
     "output_type": "stream",
     "text": [
      "1\n",
      "2\n",
      "3\n"
     ]
    }
   ],
   "source": [
    "#recursive method\n",
    "def rec(low, high):\n",
    "    if low <= high:\n",
    "        print(low)\n",
    "        rec(low+1, high)\n",
    "rec(1, 3)"
   ]
  },
  {
   "cell_type": "code",
   "execution_count": 32,
   "metadata": {},
   "outputs": [
    {
     "name": "stdout",
     "output_type": "stream",
     "text": [
      "Time to sum an iterator: 1.301011\n",
      "Time to build and sum a list: 2.497572\n"
     ]
    }
   ],
   "source": [
    "#generators\n",
    "import time\n",
    "\n",
    "def oddGen(n, m):\n",
    "    while n < m:\n",
    "        yield n\n",
    "        n += 2\n",
    "\n",
    "def oddLst(n,m):\n",
    "    lst=[]\n",
    "    while n<m:\n",
    "        lst.append(n)\n",
    "        n +=2\n",
    "    return lst\n",
    "#the time it takes to perform sum on an iterator\n",
    "t1=time.time()\n",
    "sum(oddGen(1,100000000))\n",
    "print(\"Time to sum an iterator: %f\" % (time.time() - t1))\n",
    "#the time it takes to build and sum a list\n",
    "t1=time.time()\n",
    "sum(oddLst(1,100000000))\n",
    "print(\"Time to build and sum a list: %f\" % (time.time() - t1))"
   ]
  },
  {
   "cell_type": "code",
   "execution_count": 35,
   "metadata": {},
   "outputs": [
    {
     "data": {
      "text/plain": [
       "97"
      ]
     },
     "execution_count": 35,
     "metadata": {},
     "output_type": "execute_result"
    }
   ],
   "source": [
    "ord('a')"
   ]
  },
  {
   "cell_type": "code",
   "execution_count": 38,
   "metadata": {},
   "outputs": [
    {
     "name": "stdout",
     "output_type": "stream",
     "text": [
      "20\n"
     ]
    }
   ],
   "source": [
    "a = 10; b = 20\n",
    "def fun():\n",
    "    global a\n",
    "    a = 11; b = 21\n",
    "\n",
    "fun()\n",
    "print(b)"
   ]
  },
  {
   "cell_type": "code",
   "execution_count": 1,
   "metadata": {},
   "outputs": [
    {
     "name": "stdout",
     "output_type": "stream",
     "text": [
      "hi hamid\n"
     ]
    }
   ],
   "source": [
    "print(\"hi hamid\")"
   ]
  },
  {
   "cell_type": "code",
   "execution_count": null,
   "metadata": {},
   "outputs": [],
   "source": []
  }
 ],
 "metadata": {
  "kernelspec": {
   "display_name": "Python 3",
   "language": "python",
   "name": "python3"
  },
  "language_info": {
   "codemirror_mode": {
    "name": "ipython",
    "version": 3
   },
   "file_extension": ".py",
   "mimetype": "text/x-python",
   "name": "python",
   "nbconvert_exporter": "python",
   "pygments_lexer": "ipython3",
   "version": "3.11.4"
  },
  "orig_nbformat": 4
 },
 "nbformat": 4,
 "nbformat_minor": 2
}
