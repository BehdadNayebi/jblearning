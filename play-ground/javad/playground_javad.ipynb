{
 "cells": [
  {
   "cell_type": "markdown",
   "metadata": {},
   "source": [
    "Here we want to dive into the first chapter of the book of Python Data Structure and algorythems which is about Python objects, types and expressions. We are aiming to set footsteps our underlying understanding, not only for ourselves, but also for everyone in the future who might be intrested in these topics and want to see the progress."
   ]
  },
  {
   "cell_type": "code",
   "execution_count": 2,
   "metadata": {},
   "outputs": [
    {
     "name": "stdout",
     "output_type": "stream",
     "text": [
      "Hello world!\n"
     ]
    }
   ],
   "source": [
    "# Let's keep it classic\n",
    "print('Hello world!')"
   ]
  },
  {
   "cell_type": "markdown",
   "metadata": {},
   "source": [
    "Variables are the lables for objects in Python, regardless of type, size and the shape of the objects. Not all of the programing languages have this feature. Below chunk of codes shows how Python deals with variables."
   ]
  },
  {
   "cell_type": "code",
   "execution_count": 4,
   "metadata": {},
   "outputs": [
    {
     "data": {
      "text/plain": [
       "[1, 3, 4, 5, 9]"
      ]
     },
     "execution_count": 4,
     "metadata": {},
     "output_type": "execute_result"
    }
   ],
   "source": [
    "# a is a name for the list object\n",
    "a = [1, 3, 4, 5] \n",
    "# b is a variable which is equal to the variable a\n",
    "b = a \n",
    "# adding an item to the previous list\n",
    "a.append(9) \n",
    "# by changing a, b will be changes automatically.\n",
    "b "
   ]
  },
  {
   "cell_type": "code",
   "execution_count": 7,
   "metadata": {},
   "outputs": [
    {
     "name": "stdout",
     "output_type": "stream",
     "text": [
      "a = 11 and b = 20\n"
     ]
    }
   ],
   "source": [
    "# Global variables and local variables\n",
    "a = 10 ; b = 20 # As global variables\n",
    "def f():\n",
    "    global a # calling the global variable\n",
    "    a = 11 ; b = 21\n",
    "f()\n",
    "print(f'a = {a} and b = {b}') # the local variable in the function does not affect the global variable (b)."
   ]
  },
  {
   "cell_type": "code",
   "execution_count": 27,
   "metadata": {},
   "outputs": [
    {
     "data": {
      "text/plain": [
       "3"
      ]
     },
     "execution_count": 27,
     "metadata": {},
     "output_type": "execute_result"
    }
   ],
   "source": [
    "# some methods of the type of strings\n",
    "s = 'hello world'\n",
    "\n",
    "# counting a substring in a string\n",
    "s.count('l') \n"
   ]
  },
  {
   "cell_type": "code",
   "execution_count": 29,
   "metadata": {},
   "outputs": [
    {
     "data": {
      "text/plain": [
       "2"
      ]
     },
     "execution_count": 29,
     "metadata": {},
     "output_type": "execute_result"
    }
   ],
   "source": [
    "# counting a substring in a string from start and end point\n",
    "s.count('l', 2,  5)\n"
   ]
  },
  {
   "cell_type": "code",
   "execution_count": 30,
   "metadata": {},
   "outputs": [
    {
     "data": {
      "text/plain": [
       "4"
      ]
     },
     "execution_count": 30,
     "metadata": {},
     "output_type": "execute_result"
    }
   ],
   "source": [
    "# finding (THE FIRST)the index of a substring in a string\n",
    "s.find('o')"
   ]
  },
  {
   "cell_type": "code",
   "execution_count": 39,
   "metadata": {},
   "outputs": [
    {
     "data": {
      "text/plain": [
       "'baab'"
      ]
     },
     "execution_count": 39,
     "metadata": {},
     "output_type": "execute_result"
    }
   ],
   "source": [
    "# joining strings\n",
    "\n",
    "a = 'aa'\n",
    "b = 'bb'\n",
    "\n",
    "a.join(b)"
   ]
  },
  {
   "cell_type": "code",
   "execution_count": 40,
   "metadata": {},
   "outputs": [
    {
     "data": {
      "text/plain": [
       "'hello world'"
      ]
     },
     "execution_count": 40,
     "metadata": {},
     "output_type": "execute_result"
    }
   ],
   "source": [
    "# lowercasing\n",
    "a = \"HELLO WORLD\"\n",
    "a.lower()"
   ]
  },
  {
   "cell_type": "code",
   "execution_count": 42,
   "metadata": {},
   "outputs": [
    {
     "data": {
      "text/plain": [
       "'hell0 w0rld'"
      ]
     },
     "execution_count": 42,
     "metadata": {},
     "output_type": "execute_result"
    }
   ],
   "source": [
    "# replace\n",
    "a = 'hello world'\n",
    "a.replace('o','0')"
   ]
  },
  {
   "cell_type": "code",
   "execution_count": 48,
   "metadata": {},
   "outputs": [
    {
     "data": {
      "text/plain": [
       "'hello world'"
      ]
     },
     "execution_count": 48,
     "metadata": {},
     "output_type": "execute_result"
    }
   ],
   "source": [
    "# removing white spaces [or optional characters]\n",
    "a = 'hello world'\n",
    "a.strip('o')"
   ]
  },
  {
   "cell_type": "code",
   "execution_count": 49,
   "metadata": {},
   "outputs": [
    {
     "data": {
      "text/plain": [
       "[1, 16, 81, 256]"
      ]
     },
     "execution_count": 49,
     "metadata": {},
     "output_type": "execute_result"
    }
   ],
   "source": [
    "# creating list using comperhensions\n",
    "l = [1,2,3,4]\n",
    "[i**4 for i in l]"
   ]
  },
  {
   "cell_type": "code",
   "execution_count": 50,
   "metadata": {},
   "outputs": [
    {
     "data": {
      "text/plain": [
       "[2, 4, 6, 8]"
      ]
     },
     "execution_count": 50,
     "metadata": {},
     "output_type": "execute_result"
    }
   ],
   "source": [
    "# map function (AND lambda)\n",
    "\n",
    "lst = [1,2,3,4]\n",
    "list(map(lambda x: x * 2, lst))"
   ]
  },
  {
   "cell_type": "code",
   "execution_count": 51,
   "metadata": {},
   "outputs": [
    {
     "data": {
      "text/plain": [
       "[1, 2]"
      ]
     },
     "execution_count": 51,
     "metadata": {},
     "output_type": "execute_result"
    }
   ],
   "source": [
    "# filter function\n",
    "list(filter(lambda x: x<3, lst))"
   ]
  },
  {
   "cell_type": "code",
   "execution_count": 56,
   "metadata": {},
   "outputs": [
    {
     "name": "stdout",
     "output_type": "stream",
     "text": [
      "low = 2\n",
      "low = 3\n",
      "low = 4\n",
      "low = 5\n",
      "low = 6\n",
      "low = 7\n",
      "low = 8\n",
      "low = 9\n",
      "low = 10\n"
     ]
    }
   ],
   "source": [
    "# recursive functions \n",
    "def iterTest(low, high):\n",
    "    while low <= high:\n",
    "        print(f'low = {low}')\n",
    "        low = low + 1\n",
    "iterTest(2,10)"
   ]
  },
  {
   "cell_type": "code",
   "execution_count": 58,
   "metadata": {},
   "outputs": [
    {
     "name": "stdout",
     "output_type": "stream",
     "text": [
      "low = 2\n",
      "low = 3\n",
      "low = 4\n",
      "low = 5\n",
      "low = 6\n",
      "low = 7\n",
      "low = 8\n",
      "low = 9\n",
      "low = 10\n"
     ]
    }
   ],
   "source": [
    "# Iterative functions\n",
    "\n",
    "def recurTest(low, high):\n",
    "    if low <= high:\n",
    "        print(f'low = {low}')\n",
    "        recurTest(low + 1, high)\n",
    "\n",
    "recurTest(2, 10)\n"
   ]
  },
  {
   "cell_type": "code",
   "execution_count": 60,
   "metadata": {},
   "outputs": [
    {
     "name": "stdout",
     "output_type": "stream",
     "text": [
      "Time to sum an iterator: 0.079599\n",
      "Time to build and sum a list: 0.096062\n"
     ]
    }
   ],
   "source": [
    "# yeild statement for a bunch of output rather than a single\n",
    "\n",
    "def oddGen(n, m):\n",
    "    while n < m:\n",
    "        yield n\n",
    "        n += 2\n",
    "\n",
    "#builds a list of odd numbers between n and m\n",
    "def oddLst(n,m):\n",
    "    lst=[]\n",
    "    while n<m:\n",
    "        lst.append(n)\n",
    "        n +=2\n",
    "    return lst\n",
    "#the time it takes to perform sum on an iterator\n",
    "import time\n",
    "t1=time.time()\n",
    "sum(oddGen(1,1000000))\n",
    "print(\"Time to sum an iterator: %f\" % (time.time() - t1))\n",
    "#the time it takes to build and sum a list\n",
    "t1=time.time()\n",
    "sum(oddLst(1,1000000))\n",
    "print(\"Time to build and sum a list: %f\" % (time.time() - t1))\n"
   ]
  },
  {
   "cell_type": "code",
   "execution_count": null,
   "metadata": {},
   "outputs": [],
   "source": []
  }
 ],
 "metadata": {
  "kernelspec": {
   "display_name": "Python 3",
   "language": "python",
   "name": "python3"
  },
  "language_info": {
   "codemirror_mode": {
    "name": "ipython",
    "version": 3
   },
   "file_extension": ".py",
   "mimetype": "text/x-python",
   "name": "python",
   "nbconvert_exporter": "python",
   "pygments_lexer": "ipython3",
   "version": "3.9.3"
  },
  "orig_nbformat": 4
 },
 "nbformat": 4,
 "nbformat_minor": 2
}
