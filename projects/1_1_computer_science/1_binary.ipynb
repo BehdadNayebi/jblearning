{
 "cells": [
  {
   "cell_type": "code",
   "execution_count": 8,
   "metadata": {},
   "outputs": [
    {
     "data": {
      "text/plain": [
       "['000', '001', '010', '011', '100', '101', '110', '111']"
      ]
     },
     "execution_count": 8,
     "metadata": {},
     "output_type": "execute_result"
    }
   ],
   "source": [
    "# We can have 8 numbers with 3 permutations of 1 and 0, it is a bit!\n",
    "from itertools import product\n",
    "\n",
    "digits = ['0', '1']\n",
    "\n",
    "permutations_3_digit = list(product(digits, repeat=3))\n",
    "\n",
    "result = []\n",
    "\n",
    "for perm in permutations_3_digit:\n",
    "    result.append(''.join(perm))\n",
    "\n",
    "result"
   ]
  },
  {
   "cell_type": "code",
   "execution_count": 12,
   "metadata": {},
   "outputs": [
    {
     "name": "stdout",
     "output_type": "stream",
     "text": [
      "0b1111011\n"
     ]
    }
   ],
   "source": [
    "# It is understood that 123 represents \"one hundred and twenty-three\" in base ten.\n",
    "# It means we can multiply the 123 one by one to 10^2, 10^1, and 10^0.\n",
    "# Now for binary we have 2^2, 2^1, and 2^0\n",
    "# Convert an integer to binary:\n",
    "integer_value = 123\n",
    "binary_representation = bin(integer_value)\n",
    "print(binary_representation) #64+32+16+8+2+1"
   ]
  },
  {
   "cell_type": "code",
   "execution_count": 17,
   "metadata": {},
   "outputs": [
    {
     "name": "stdout",
     "output_type": "stream",
     "text": [
      "123\n"
     ]
    }
   ],
   "source": [
    "binary_string = '1111011'\n",
    "decimal_integer = int(binary_string,2)\n",
    "print(decimal_integer)"
   ]
  },
  {
   "cell_type": "code",
   "execution_count": 19,
   "metadata": {},
   "outputs": [
    {
     "data": {
      "text/plain": [
       "256"
      ]
     },
     "execution_count": 19,
     "metadata": {},
     "output_type": "execute_result"
    }
   ],
   "source": [
    "permutations_3_digit = list(product(digits, repeat=8))\n",
    "\n",
    "result = []\n",
    "\n",
    "for perm in permutations_3_digit:\n",
    "    result.append(''.join(perm))\n",
    "\n",
    "len(result)"
   ]
  },
  {
   "cell_type": "code",
   "execution_count": 24,
   "metadata": {},
   "outputs": [
    {
     "data": {
      "text/plain": [
       "256"
      ]
     },
     "execution_count": 24,
     "metadata": {},
     "output_type": "execute_result"
    }
   ],
   "source": [
    "# ASCII stands for \"American Standard Code for Information Interchange.\" \n",
    "# It is a character encoding standard that represents text characters as numerical values. \n",
    "# In ASCII, each character is assigned a unique number, which is typically a 7-bit binary number \n",
    "# (though it can be extended to 8 bits in the extended ASCII).\n",
    "2**8 # * bits"
   ]
  },
  {
   "cell_type": "code",
   "execution_count": 28,
   "metadata": {},
   "outputs": [
    {
     "data": {
      "text/plain": [
       "33"
      ]
     },
     "execution_count": 28,
     "metadata": {},
     "output_type": "execute_result"
    }
   ],
   "source": [
    "ascii_value_of_A = ord('!')\n",
    "ascii_value_of_A"
   ]
  },
  {
   "cell_type": "code",
   "execution_count": 43,
   "metadata": {},
   "outputs": [],
   "source": [
    "# UTF-8 (Unicode Transformation Format - 8-bit) is a character encoding standard\n",
    "# that represents text characters using variable-length sequences of 8-bit bytes.\n",
    "# It can represent a wide range of characters from different languages and scripts,\n",
    "# making it a universal character encoding standard for text in computing.\n",
    "# UTF-8 is backward compatible with ASCII, which means that ASCII characters\n",
    "# are represented the same way in UTF-8."
   ]
  }
 ],
 "metadata": {
  "kernelspec": {
   "display_name": "Python 3",
   "language": "python",
   "name": "python3"
  },
  "language_info": {
   "codemirror_mode": {
    "name": "ipython",
    "version": 3
   },
   "file_extension": ".py",
   "mimetype": "text/x-python",
   "name": "python",
   "nbconvert_exporter": "python",
   "pygments_lexer": "ipython3",
   "version": "3.11.4"
  },
  "orig_nbformat": 4
 },
 "nbformat": 4,
 "nbformat_minor": 2
}
