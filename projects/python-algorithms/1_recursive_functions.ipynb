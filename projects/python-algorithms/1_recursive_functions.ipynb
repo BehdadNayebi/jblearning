{
 "cells": [
  {
   "cell_type": "code",
   "execution_count": null,
   "metadata": {},
   "outputs": [],
   "source": [
    "\"\"\"\n",
    "In this project we will develope some recursive functions for:\n",
    "1- Factorial Calculation\n",
    "    factorial(5)  # Calculates 5! = 5 * 4 * 3 * 2 * 1 = 120\n",
    "2- Fibonacci Sequence\n",
    "    [fibonacci(i) for i in range(10)]  # Generates first 10 Fibonacci numbers\n",
    "3- Binary Search\n",
    "    Can you implement a binary search function in Python \n",
    "    that finds the index of a target element in a sorted list?\n",
    "4- Recursive Sum\n",
    "    Write a Python function that recursively \n",
    "    calculates the sum of all elements in a list.\n",
    "5- Tower of Hanoi\n",
    "\"\"\""
   ]
  },
  {
   "cell_type": "code",
   "execution_count": null,
   "metadata": {},
   "outputs": [],
   "source": []
  }
 ],
 "metadata": {
  "language_info": {
   "name": "python"
  },
  "orig_nbformat": 4
 },
 "nbformat": 4,
 "nbformat_minor": 2
}
