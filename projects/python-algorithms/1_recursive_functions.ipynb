{
 "cells": [
  {
   "cell_type": "code",
   "execution_count": null,
   "metadata": {},
   "outputs": [],
   "source": [
    "\"\"\"\n",
    "In this project we will develope some recursive functions for:\n",
    "1- Factorial Calculation\n",
    "    factorial(5)  # Calculates 5! = 5 * 4 * 3 * 2 * 1 = 120\n",
    "2- Fibonacci Sequence\n",
    "    [fibonacci(i) for i in range(10)]  # Generates first 10 Fibonacci numbers\n",
    "3- Binary Search\n",
    "    Can you implement a binary search function in Python \n",
    "    that finds the index of a target element in a sorted list?\n",
    "4- Recursive Sum\n",
    "    Write a Python function that recursively \n",
    "    calculates the sum of all elements in a list.\n",
    "5- Tower of Hanoi\n",
    "\"\"\""
   ]
  },
  {
   "cell_type": "code",
   "execution_count": 8,
   "metadata": {},
   "outputs": [
    {
     "data": {
      "text/plain": [
       "120"
      ]
     },
     "execution_count": 8,
     "metadata": {},
     "output_type": "execute_result"
    }
   ],
   "source": [
    "#Factorial Calculator Function\n",
    "def factorial(n):\n",
    "    if n == 0:\n",
    "        return 1\n",
    "    else:\n",
    "        return n * factorial(n - 1)\n",
    "\n",
    "factorial(5)\n"
   ]
  },
  {
   "cell_type": "code",
   "execution_count": 10,
   "metadata": {},
   "outputs": [
    {
     "name": "stdout",
     "output_type": "stream",
     "text": [
      "The first 1 Fibonacci numbers are: [0, 1]\n"
     ]
    }
   ],
   "source": [
    "#Fibonacci Sequence. Generates first N Fibonacci numbers.\n",
    "def generate_fibonacci(n):\n",
    "    fibonacci_sequence = [0, 1]  \n",
    "\n",
    "    while len(fibonacci_sequence) < n:\n",
    "        next_term = fibonacci_sequence[-1] + fibonacci_sequence[-2]\n",
    "        fibonacci_sequence.append(next_term)\n",
    "\n",
    "    return fibonacci_sequence\n",
    "\n",
    "# Example usage:\n",
    "num_terms = 1  # Change this to the number of terms you want\n",
    "fibonacci_sequence = generate_fibonacci(num_terms)\n",
    "print(f\"The first {num_terms} Fibonacci numbers are: {fibonacci_sequence}\")"
   ]
  },
  {
   "cell_type": "code",
   "execution_count": 18,
   "metadata": {},
   "outputs": [
    {
     "name": "stdout",
     "output_type": "stream",
     "text": [
      "The first 3 Fibonacci numbers are: [0, 1, 1]\n"
     ]
    }
   ],
   "source": [
    "def generate_fibonacci_recursive(n, sequence=None):\n",
    "    if sequence is None:\n",
    "        sequence = [0, 1]  # Initialize with the first two terms of the sequence\n",
    "    \n",
    "    if n <= len(sequence):\n",
    "        return sequence[:n]\n",
    "\n",
    "    next_term = sequence[-1] + sequence[-2]\n",
    "    sequence.append(next_term)\n",
    "\n",
    "    return generate_fibonacci_recursive(n, sequence)\n",
    "\n",
    "# Example usage:\n",
    "num_terms = 3  # Change this to the number of terms you want\n",
    "fibonacci_sequence = generate_fibonacci_recursive(num_terms)\n",
    "print(f\"The first {num_terms} Fibonacci numbers are: {fibonacci_sequence}\")"
   ]
  },
  {
   "cell_type": "code",
   "execution_count": null,
   "metadata": {},
   "outputs": [],
   "source": []
  }
 ],
 "metadata": {
  "kernelspec": {
   "display_name": "Python 3",
   "language": "python",
   "name": "python3"
  },
  "language_info": {
   "codemirror_mode": {
    "name": "ipython",
    "version": 3
   },
   "file_extension": ".py",
   "mimetype": "text/x-python",
   "name": "python",
   "nbconvert_exporter": "python",
   "pygments_lexer": "ipython3",
   "version": "3.11.4"
  },
  "orig_nbformat": 4
 },
 "nbformat": 4,
 "nbformat_minor": 2
}
